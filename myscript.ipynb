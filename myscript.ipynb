{
 "cells": [
  {
   "cell_type": "code",
   "execution_count": null,
   "id": "689a3f7d",
   "metadata": {
    "lines_to_next_cell": 1
   },
   "outputs": [],
   "source": [
    "import numpy as np\n",
    "import matplotlib.pyplot as plt\n",
    "import os"
   ]
  },
  {
   "cell_type": "code",
   "execution_count": null,
   "id": "1c6d1a52",
   "metadata": {
    "lines_to_next_cell": 1
   },
   "outputs": [],
   "source": [
    "def read_data(file_path):\n",
    "    with open(file_path, 'r') as file:\n",
    "        lines = file.readlines()\n",
    "    cell_bounds = {}\n",
    "    atom_positions = []\n",
    "    cell_lengths = {}\n",
    "\n",
    "    for i, line in enumerate(lines):\n",
    "        if \"ITEM: ATOMS\" in line:\n",
    "            atom_data = lines[i + 1:]\n",
    "            break\n",
    "        elif \"ITEM: BOX BOUNDS\" in line:\n",
    "            bounds_info = lines[i+1:i+4]\n",
    "            for j, axis in enumerate(['x', 'y', 'z']):\n",
    "                bounds = bounds_info[j].split()\n",
    "                min_bound, max_bound = float(bounds[0]), float(bounds[1])\n",
    "                cell_bounds[axis] = (min_bound, max_bound)\n",
    "                cell_lengths[axis] = max_bound - min_bound\n",
    "\n",
    "    atom_positions = np.array([[float(x) for x in line.split()[2:5]] for line in atom_data])\n",
    "    return atom_positions, cell_bounds, cell_lengths"
   ]
  },
  {
   "cell_type": "code",
   "execution_count": null,
   "id": "8071e46e",
   "metadata": {
    "lines_to_next_cell": 1
   },
   "outputs": [],
   "source": [
    "def calculate_fraction(atom_positions, cell_bounds, divisions):\n",
    "    voxel_size = np.array([(cell_bounds[axis][1] - cell_bounds[axis][0]) / divisions for axis in ['x', 'y', 'z']])\n",
    "    indices = np.floor((atom_positions - np.array([cell_bounds[axis][0] for axis in ['x', 'y', 'z']])) / voxel_size).astype(int)\n",
    "    indices = np.clip(indices, 0, divisions - 1)\n",
    "\n",
    "    grid = np.zeros((divisions, divisions, divisions), dtype=bool)\n",
    "    grid[indices[:,0], indices[:,1], indices[:,2]] = True\n",
    "    fraction = 1 - np.mean(grid)\n",
    "    return fraction"
   ]
  },
  {
   "cell_type": "code",
   "execution_count": null,
   "id": "0522acbe",
   "metadata": {
    "lines_to_next_cell": 1
   },
   "outputs": [],
   "source": [
    "def main():\n",
    "    input_directory = '/scratch/mahshad1994/william.python/Cu1/10'\n",
    "    output_directory = '/home/mahshad1994/Cu.containing.void/Cu1/10'\n",
    "    output_file_path = os.path.join(output_directory, 'results.txt')\n",
    "    divisions = 22\n",
    "    initial_lengths = None\n",
    "    results = []\n",
    "\n",
    "    print(\"Checking output directory...\")\n",
    "    # Ensure the output directory exists\n",
    "    if not os.path.exists(output_directory):\n",
    "        os.makedirs(output_directory)\n",
    "    print(f\"Output directory: {output_directory}\")\n",
    "\n",
    "    print(\"Listing all files in the input directory...\")\n",
    "    # List all files in the directory (both files and directories)\n",
    "    all_files = os.listdir(input_directory)\n",
    "    print(f\"All files in the input directory: {all_files}\")\n",
    "\n",
    "    # Filter only dump files\n",
    "    dump_files = [f for f in all_files if f.startswith('dump.') and os.path.isfile(os.path.join(input_directory, f))]\n",
    "    print(f\"Dump files to process: {dump_files}\")\n",
    "\n",
    "    # Ensure 'dump.0' is processed first\n",
    "    if 'dump.0' in dump_files:\n",
    "        dump_files.remove('dump.0')\n",
    "        dump_files.insert(0, 'dump.0')\n",
    "\n",
    "    for file_name in dump_files:\n",
    "        input_file_path = os.path.join(input_directory, file_name)\n",
    "        print(f\"Processing file: {input_file_path}\")\n",
    "\n",
    "        atom_positions, cell_bounds, cell_lengths = read_data(input_file_path)\n",
    "        if initial_lengths is None:\n",
    "            initial_lengths = cell_lengths\n",
    "\n",
    "        px = (cell_lengths['x'] - initial_lengths['x']) / initial_lengths['x']\n",
    "        py = (cell_lengths['y'] - initial_lengths['y']) / initial_lengths['y']\n",
    "        pz = (cell_lengths['z'] - initial_lengths['z']) / initial_lengths['z']\n",
    "        dilatation = -(px + py + pz) / 3.\n",
    "        fraction = calculate_fraction(atom_positions, cell_bounds, divisions)\n",
    "        results.append(f'{dilatation:.4f} {fraction:.4f}')\n",
    "        print(f\"Result for {file_name}: {dilatation:.4f} {fraction:.4f}\")\n",
    "\n",
    "    print(f\"Writing results to {output_file_path}...\")\n",
    "    with open(output_file_path, 'w') as f:\n",
    "        for result in results:\n",
    "            f.write(result + '\\n')\n",
    "\n",
    "    print(\"Generating plot...\")\n",
    "    # Plotting and saving the figure instead of showing it\n",
    "    plt.figure(figsize=(10, 5))\n",
    "    plt.scatter([float(result.split()[0]) for result in results],\n",
    "                [float(result.split()[1]) for result in results],\n",
    "                color='blue')\n",
    "    plt.title('Fraction vs. Dilatation')\n",
    "    plt.xlabel('Dilatation')\n",
    "    plt.ylabel('Fraction')\n",
    "    plt.grid(True)\n",
    "    plot_path = os.path.join(output_directory, 'plot.png')\n",
    "    plt.savefig(plot_path)\n",
    "    print(f\"Plot saved to {plot_path}\")"
   ]
  },
  {
   "cell_type": "code",
   "execution_count": null,
   "id": "8d3e51c4",
   "metadata": {},
   "outputs": [],
   "source": [
    "if __name__ == \"__main__\":\n",
    "    main()"
   ]
  }
 ],
 "metadata": {
  "jupytext": {
   "cell_metadata_filter": "-all",
   "main_language": "python",
   "notebook_metadata_filter": "-all"
  }
 },
 "nbformat": 4,
 "nbformat_minor": 5
}
